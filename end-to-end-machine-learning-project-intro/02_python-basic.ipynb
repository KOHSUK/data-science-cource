{
 "cells": [
  {
   "attachments": {},
   "cell_type": "markdown",
   "metadata": {},
   "source": [
    "# Python 入門 + α"
   ]
  },
  {
   "attachments": {},
   "cell_type": "markdown",
   "metadata": {},
   "source": [
    "# データの代入"
   ]
  },
  {
   "attachments": {},
   "cell_type": "markdown",
   "metadata": {},
   "source": [
    "## 覚えること\n",
    "\n",
    "以下の形式で書くとデータの代入となる\n",
    "\n",
    "```\n",
    "変数名 = データ\n",
    "```"
   ]
  },
  {
   "cell_type": "code",
   "execution_count": 44,
   "metadata": {},
   "outputs": [],
   "source": [
    "# 数値の代入 <- '#'から書き始めると、コメント(プログラムの処理ではない説明文)になります\n",
    "amount = 0\n",
    "\n",
    "# 文字列の代入\n",
    "text = \"本日は晴天なり\"\n",
    "text2 = '曇天もまた良し'\n",
    "\n",
    "# 真理値の代入\n",
    "false_value = False # 偽 <- 途中からコメントを始めることもできる\n",
    "true_value = True # 真\n",
    "\n",
    "# 複雑なデータ型の代入\n",
    "# リスト\n",
    "string_list = ['a', 'b', 'c']\n",
    "number_list = [1, 2, 3, 5, 8, 13]\n",
    "empty_list = []\n",
    "\n",
    "# タプル\n",
    "tuple = ('a', 1, True)\n",
    "\n",
    "# 辞書\n",
    "users = {1: 'Ichiro', 2: 'Jiro', 3: 'Saburo'}\n",
    "# 改行すると見やすくなる\n",
    "greetings = {\n",
    "    'Japanese': 'こんにちは',\n",
    "    'English': 'Hello',\n",
    "    'Spanish': 'Hola'\n",
    "}\n",
    "\n",
    "# 存在しない値\n",
    "data = None\n"
   ]
  },
  {
   "cell_type": "code",
   "execution_count": 45,
   "metadata": {},
   "outputs": [],
   "source": [
    "# 代入結果は保持されます！\n",
    "num1 = 2\n",
    "num2 = 3"
   ]
  },
  {
   "cell_type": "code",
   "execution_count": 46,
   "metadata": {},
   "outputs": [
    {
     "name": "stdout",
     "output_type": "stream",
     "text": [
      "num1: 2\n",
      "num2: 3\n"
     ]
    }
   ],
   "source": [
    "print('num1:', num1)\n",
    "print('num2:', num2)"
   ]
  },
  {
   "attachments": {},
   "cell_type": "markdown",
   "metadata": {},
   "source": [
    "# 数値の計算"
   ]
  },
  {
   "cell_type": "code",
   "execution_count": 47,
   "metadata": {},
   "outputs": [
    {
     "data": {
      "text/plain": [
       "3"
      ]
     },
     "execution_count": 47,
     "metadata": {},
     "output_type": "execute_result"
    }
   ],
   "source": [
    "1 + 2"
   ]
  },
  {
   "cell_type": "code",
   "execution_count": 48,
   "metadata": {},
   "outputs": [
    {
     "data": {
      "text/plain": [
       "12"
      ]
     },
     "execution_count": 48,
     "metadata": {},
     "output_type": "execute_result"
    }
   ],
   "source": [
    "3 * 4"
   ]
  },
  {
   "cell_type": "code",
   "execution_count": 49,
   "metadata": {},
   "outputs": [
    {
     "data": {
      "text/plain": [
       "3.0"
      ]
     },
     "execution_count": 49,
     "metadata": {},
     "output_type": "execute_result"
    }
   ],
   "source": [
    "9 / 3"
   ]
  },
  {
   "cell_type": "code",
   "execution_count": 50,
   "metadata": {},
   "outputs": [
    {
     "data": {
      "text/plain": [
       "1"
      ]
     },
     "execution_count": 50,
     "metadata": {},
     "output_type": "execute_result"
    }
   ],
   "source": [
    "# あまり\n",
    "25 % 3"
   ]
  },
  {
   "cell_type": "code",
   "execution_count": 51,
   "metadata": {},
   "outputs": [
    {
     "name": "stdout",
     "output_type": "stream",
     "text": [
      "104.33333333333333\n"
     ]
    }
   ],
   "source": [
    "# 計算結果を代入\n",
    "result = 8 * 2 / 3 + 99\n",
    "print(result)"
   ]
  },
  {
   "cell_type": "code",
   "execution_count": 52,
   "metadata": {},
   "outputs": [
    {
     "data": {
      "text/plain": [
       "5"
      ]
     },
     "execution_count": 52,
     "metadata": {},
     "output_type": "execute_result"
    }
   ],
   "source": [
    "# 変数内の数値を計算\n",
    "num1 + num2"
   ]
  },
  {
   "attachments": {},
   "cell_type": "markdown",
   "metadata": {},
   "source": [
    "# 文字列操作"
   ]
  },
  {
   "cell_type": "code",
   "execution_count": 53,
   "metadata": {},
   "outputs": [
    {
     "data": {
      "text/plain": [
       "'Hello, Taro!'"
      ]
     },
     "execution_count": 53,
     "metadata": {},
     "output_type": "execute_result"
    }
   ],
   "source": [
    "# 結合\n",
    "greeting = \"Hello, \"\n",
    "name = \"Taro\"\n",
    "\n",
    "greeting + name + \"!\""
   ]
  },
  {
   "attachments": {},
   "cell_type": "markdown",
   "metadata": {},
   "source": [
    "# 文字列の一部を取得\n"
   ]
  },
  {
   "attachments": {},
   "cell_type": "markdown",
   "metadata": {},
   "source": [
    "その他の文字列処理\n",
    "\n",
    "https://qiita.com/tomotaka_ito/items/594ee1396cf982ba9887"
   ]
  },
  {
   "attachments": {},
   "cell_type": "markdown",
   "metadata": {},
   "source": [
    "# ブール演算"
   ]
  },
  {
   "attachments": {},
   "cell_type": "markdown",
   "metadata": {},
   "source": [
    "## And演算\n",
    "\n",
    "`and`で結んだ両側が両方とも`True`だったら結果が`True`"
   ]
  },
  {
   "cell_type": "code",
   "execution_count": 54,
   "metadata": {},
   "outputs": [
    {
     "data": {
      "text/plain": [
       "True"
      ]
     },
     "execution_count": 54,
     "metadata": {},
     "output_type": "execute_result"
    }
   ],
   "source": [
    "True and True"
   ]
  },
  {
   "cell_type": "code",
   "execution_count": 55,
   "metadata": {},
   "outputs": [
    {
     "data": {
      "text/plain": [
       "False"
      ]
     },
     "execution_count": 55,
     "metadata": {},
     "output_type": "execute_result"
    }
   ],
   "source": [
    "True and False"
   ]
  },
  {
   "cell_type": "code",
   "execution_count": 56,
   "metadata": {},
   "outputs": [
    {
     "data": {
      "text/plain": [
       "False"
      ]
     },
     "execution_count": 56,
     "metadata": {},
     "output_type": "execute_result"
    }
   ],
   "source": [
    "False and False"
   ]
  },
  {
   "cell_type": "code",
   "execution_count": 57,
   "metadata": {},
   "outputs": [
    {
     "data": {
      "text/plain": [
       "False"
      ]
     },
     "execution_count": 57,
     "metadata": {},
     "output_type": "execute_result"
    }
   ],
   "source": [
    "is_true = True\n",
    "is_false = False\n",
    "\n",
    "# 変数同士も演算できる\n",
    "is_true and is_false"
   ]
  },
  {
   "attachments": {},
   "cell_type": "markdown",
   "metadata": {},
   "source": [
    "## Or演算\n",
    "\n",
    "`or`で結んだどちらか一方が`True`だったら結果が`True`"
   ]
  },
  {
   "cell_type": "code",
   "execution_count": 58,
   "metadata": {},
   "outputs": [
    {
     "data": {
      "text/plain": [
       "True"
      ]
     },
     "execution_count": 58,
     "metadata": {},
     "output_type": "execute_result"
    }
   ],
   "source": [
    "True or True"
   ]
  },
  {
   "cell_type": "code",
   "execution_count": 59,
   "metadata": {},
   "outputs": [
    {
     "data": {
      "text/plain": [
       "True"
      ]
     },
     "execution_count": 59,
     "metadata": {},
     "output_type": "execute_result"
    }
   ],
   "source": [
    "True or False"
   ]
  },
  {
   "cell_type": "code",
   "execution_count": 60,
   "metadata": {},
   "outputs": [
    {
     "data": {
      "text/plain": [
       "False"
      ]
     },
     "execution_count": 60,
     "metadata": {},
     "output_type": "execute_result"
    }
   ],
   "source": [
    "False or False"
   ]
  },
  {
   "attachments": {},
   "cell_type": "markdown",
   "metadata": {},
   "source": [
    "## not演算\n",
    "\n",
    "`not`の右側の真偽値を逆転させる"
   ]
  },
  {
   "cell_type": "code",
   "execution_count": 61,
   "metadata": {},
   "outputs": [
    {
     "data": {
      "text/plain": [
       "False"
      ]
     },
     "execution_count": 61,
     "metadata": {},
     "output_type": "execute_result"
    }
   ],
   "source": [
    "not True"
   ]
  },
  {
   "cell_type": "code",
   "execution_count": 62,
   "metadata": {},
   "outputs": [
    {
     "data": {
      "text/plain": [
       "True"
      ]
     },
     "execution_count": 62,
     "metadata": {},
     "output_type": "execute_result"
    }
   ],
   "source": [
    "not False"
   ]
  },
  {
   "cell_type": "code",
   "execution_count": 63,
   "metadata": {},
   "outputs": [
    {
     "data": {
      "text/plain": [
       "True"
      ]
     },
     "execution_count": 63,
     "metadata": {},
     "output_type": "execute_result"
    }
   ],
   "source": [
    "is_small = False\n",
    "\n",
    "not is_small"
   ]
  },
  {
   "attachments": {},
   "cell_type": "markdown",
   "metadata": {},
   "source": [
    "## ちょっと複雑なbool演算"
   ]
  },
  {
   "cell_type": "code",
   "execution_count": 64,
   "metadata": {},
   "outputs": [],
   "source": [
    "num = 99"
   ]
  },
  {
   "cell_type": "code",
   "execution_count": 65,
   "metadata": {},
   "outputs": [
    {
     "data": {
      "text/plain": [
       "True"
      ]
     },
     "execution_count": 65,
     "metadata": {},
     "output_type": "execute_result"
    }
   ],
   "source": [
    "num == 99"
   ]
  },
  {
   "cell_type": "code",
   "execution_count": 66,
   "metadata": {},
   "outputs": [
    {
     "data": {
      "text/plain": [
       "False"
      ]
     },
     "execution_count": 66,
     "metadata": {},
     "output_type": "execute_result"
    }
   ],
   "source": [
    "num != 99"
   ]
  },
  {
   "cell_type": "code",
   "execution_count": 67,
   "metadata": {},
   "outputs": [
    {
     "data": {
      "text/plain": [
       "True"
      ]
     },
     "execution_count": 67,
     "metadata": {},
     "output_type": "execute_result"
    }
   ],
   "source": [
    "num > 10"
   ]
  },
  {
   "cell_type": "code",
   "execution_count": 68,
   "metadata": {},
   "outputs": [
    {
     "data": {
      "text/plain": [
       "True"
      ]
     },
     "execution_count": 68,
     "metadata": {},
     "output_type": "execute_result"
    }
   ],
   "source": [
    "greater_than_10 = num > 10\n",
    "greater_than_10"
   ]
  },
  {
   "cell_type": "code",
   "execution_count": 69,
   "metadata": {},
   "outputs": [
    {
     "data": {
      "text/plain": [
       "True"
      ]
     },
     "execution_count": 69,
     "metadata": {},
     "output_type": "execute_result"
    }
   ],
   "source": [
    "equals_to_99 = num == 99\n",
    "equals_to_99"
   ]
  },
  {
   "attachments": {},
   "cell_type": "markdown",
   "metadata": {},
   "source": [
    "`greater_than_10 = num > 10`\n",
    "\n",
    "は\n",
    "\n",
    "1. num > 10 は True\n",
    "2. greater_than_10変数にTrueが代入される\n",
    "\n",
    "と考える"
   ]
  },
  {
   "attachments": {},
   "cell_type": "markdown",
   "metadata": {},
   "source": [
    "# 制御処理"
   ]
  },
  {
   "attachments": {},
   "cell_type": "markdown",
   "metadata": {},
   "source": [
    "## if文\n",
    "\n",
    "以下のような形式で、<判定条件>が`True`と評価できる時、中の処理を行う\n",
    "\n",
    "```\n",
    "if <判定条件>:\n",
    "    <処理> <-インデントを入れるのがポイント\n",
    "```\n",
    "\n",
    "以下のように複数条件の分岐もできる\n",
    "```\n",
    "if <判定条件1>:\n",
    "    <処理1>\n",
    "elif <判定条件2>:\n",
    "    <処理2>\n",
    "elif <判定条件3>:\n",
    "    <処理3>\n",
    "else:\n",
    "    <その他の処理>\n",
    "```"
   ]
  },
  {
   "cell_type": "code",
   "execution_count": 70,
   "metadata": {},
   "outputs": [
    {
     "name": "stdout",
     "output_type": "stream",
     "text": [
      "It's true!\n"
     ]
    }
   ],
   "source": [
    "if True:\n",
    "    print(\"It's true!\")"
   ]
  },
  {
   "cell_type": "code",
   "execution_count": 71,
   "metadata": {},
   "outputs": [
    {
     "name": "stdout",
     "output_type": "stream",
     "text": [
      "こちらが通る\n"
     ]
    }
   ],
   "source": [
    "if True and False:\n",
    "    print(\"ここは通らない\")\n",
    "else:\n",
    "    print(\"こちらが通る\")"
   ]
  },
  {
   "cell_type": "code",
   "execution_count": 72,
   "metadata": {},
   "outputs": [],
   "source": [
    "bool1 = True\n",
    "bool2 = False\n",
    "bool3 = ()\n"
   ]
  },
  {
   "cell_type": "code",
   "execution_count": 73,
   "metadata": {},
   "outputs": [
    {
     "name": "stdout",
     "output_type": "stream",
     "text": [
      "こちらが通る\n"
     ]
    }
   ],
   "source": [
    "if None:\n",
    "    print(\"ここは通らない\")\n",
    "else:\n",
    "    print(\"こちらが通る\")"
   ]
  },
  {
   "cell_type": "code",
   "execution_count": 74,
   "metadata": {},
   "outputs": [
    {
     "name": "stdout",
     "output_type": "stream",
     "text": [
      "ここは通らない\n"
     ]
    }
   ],
   "source": [
    "if not None:\n",
    "    print(\"ここは通らない\")\n",
    "else:\n",
    "    print(\"こちらが通る\")"
   ]
  },
  {
   "attachments": {},
   "cell_type": "markdown",
   "metadata": {},
   "source": [
    "# 繰り返し"
   ]
  },
  {
   "attachments": {},
   "cell_type": "markdown",
   "metadata": {},
   "source": [
    "1. for文を用いた繰り返し"
   ]
  },
  {
   "cell_type": "code",
   "execution_count": 75,
   "metadata": {},
   "outputs": [
    {
     "name": "stdout",
     "output_type": "stream",
     "text": [
      "0\n",
      "1\n",
      "2\n",
      "3\n",
      "4\n"
     ]
    }
   ],
   "source": [
    "# range関数を用いて、0から4までの数字を順番に取得し、それをiに代入してfor文内で繰り返し処理を行う\n",
    "for i in range(5):\n",
    "    print(i)"
   ]
  },
  {
   "attachments": {},
   "cell_type": "markdown",
   "metadata": {},
   "source": [
    "上記のコードは、0から4までの数字を順番に表示するものです。range(5)は、0から4までの数字を生成するrangeオブジェクトを返します。"
   ]
  },
  {
   "attachments": {},
   "cell_type": "markdown",
   "metadata": {},
   "source": [
    "2. while文を用いた繰り返し"
   ]
  },
  {
   "cell_type": "code",
   "execution_count": 76,
   "metadata": {},
   "outputs": [
    {
     "name": "stdout",
     "output_type": "stream",
     "text": [
      "0\n",
      "1\n",
      "2\n",
      "3\n",
      "4\n"
     ]
    }
   ],
   "source": [
    "# 初期値としてiに0を代入し、while文内でiが5未満である限り、繰り返し処理を行う\n",
    "i = 0\n",
    "while i < 5:\n",
    "    print(i)\n",
    "    i += 1"
   ]
  },
  {
   "attachments": {},
   "cell_type": "markdown",
   "metadata": {},
   "source": [
    "上記のコードは、0から4までの数字を順番に表示するものです。iが5未満である限り、繰り返し処理を行います。"
   ]
  },
  {
   "attachments": {},
   "cell_type": "markdown",
   "metadata": {},
   "source": [
    "3. for文を用いたリストの繰り返し"
   ]
  },
  {
   "cell_type": "code",
   "execution_count": 77,
   "metadata": {},
   "outputs": [
    {
     "name": "stdout",
     "output_type": "stream",
     "text": [
      "apple\n",
      "banana\n",
      "orange\n"
     ]
    }
   ],
   "source": [
    "# リストの中身を順番に取り出し、それをitemに代入してfor文内で繰り返し処理を行う\n",
    "fruits = ['apple', 'banana', 'orange']\n",
    "for item in fruits:\n",
    "    print(item)"
   ]
  },
  {
   "attachments": {},
   "cell_type": "markdown",
   "metadata": {},
   "source": [
    "上記のコードは、リストfruitsの中身を順番に表示するものです。リストの中身を順番に取り出し、それをitemに代入してfor文内で繰り返し処理を行います。"
   ]
  },
  {
   "attachments": {},
   "cell_type": "markdown",
   "metadata": {},
   "source": [
    "4. while文を用いたリストの繰り返し"
   ]
  },
  {
   "cell_type": "code",
   "execution_count": 78,
   "metadata": {},
   "outputs": [
    {
     "name": "stdout",
     "output_type": "stream",
     "text": [
      "apple\n",
      "banana\n",
      "orange\n"
     ]
    }
   ],
   "source": [
    "# 初期値としてiに0を代入し、リストfruitsの長さがi未満である限り、繰り返し処理を行う\n",
    "fruits = ['apple', 'banana', 'orange']\n",
    "i = 0\n",
    "while i < len(fruits):\n",
    "    print(fruits[i])\n",
    "    i += 1"
   ]
  },
  {
   "attachments": {},
   "cell_type": "markdown",
   "metadata": {},
   "source": [
    "上記のコードは、リストfruitsの中身を順番に表示するものです。リストの長さがi未満である限り、繰り返し処理を行います。iはリストのインデックスとして使用されます。"
   ]
  },
  {
   "attachments": {},
   "cell_type": "markdown",
   "metadata": {},
   "source": [
    "# Pandas"
   ]
  },
  {
   "attachments": {},
   "cell_type": "markdown",
   "metadata": {},
   "source": [
    "PandasはPythonのライブラリで、データ分析において非常に便利です。ここでは、初心者でも理解しやすいように、Pandasの基本的な機能をいくつか紹介します。"
   ]
  },
  {
   "attachments": {},
   "cell_type": "markdown",
   "metadata": {},
   "source": [
    "## 1. CSVファイルの読み込みと表示"
   ]
  },
  {
   "cell_type": "code",
   "execution_count": 80,
   "metadata": {},
   "outputs": [
    {
     "name": "stdout",
     "output_type": "stream",
     "text": [
      "      name  age  gender\n",
      "0     John   20    Male\n",
      "1    Emily   25  Female\n",
      "2  Charlie   30    Male\n",
      "3   Sophia   27  Female\n",
      "4      Tom   22    Male\n"
     ]
    }
   ],
   "source": [
    "# pandasをimportする\n",
    "import pandas as pd\n",
    "\n",
    "# CSVファイルを読み込んで、DataFrameオブジェクトを作成する\n",
    "df = pd.read_csv('./datasets/sample.csv')\n",
    "\n",
    "# DataFrameオブジェクトの先頭5行を表示する\n",
    "print(df.head())\n"
   ]
  },
  {
   "attachments": {},
   "cell_type": "markdown",
   "metadata": {},
   "source": [
    "上記のコードは、CSVファイルを読み込み、先頭5行を表示するものです。read_csv()関数を使用してCSVファイルを読み込み、DataFrameオブジェクトを作成します。head()メソッドを使用して、DataFrameオブジェクトの先頭5行を表示します。"
   ]
  },
  {
   "attachments": {},
   "cell_type": "markdown",
   "metadata": {},
   "source": [
    "## 2. DataFrameオブジェクトの基本的な操作"
   ]
  },
  {
   "cell_type": "code",
   "execution_count": 82,
   "metadata": {},
   "outputs": [],
   "source": [
    "# pandasをimportする\n",
    "import pandas as pd\n",
    "\n",
    "# DataFrameオブジェクトを作成する\n",
    "data = {'name': ['John', 'Emily', 'Charlie'], 'age': [20, 25, 30]}\n",
    "df = pd.DataFrame(data)\n"
   ]
  },
  {
   "cell_type": "code",
   "execution_count": 83,
   "metadata": {},
   "outputs": [
    {
     "name": "stdout",
     "output_type": "stream",
     "text": [
      "0       John\n",
      "1      Emily\n",
      "2    Charlie\n",
      "Name: name, dtype: object\n"
     ]
    }
   ],
   "source": [
    "# DataFrameオブジェクトの列を表示する\n",
    "print(df['name'])"
   ]
  },
  {
   "cell_type": "code",
   "execution_count": 84,
   "metadata": {},
   "outputs": [
    {
     "name": "stdout",
     "output_type": "stream",
     "text": [
      "name    Emily\n",
      "age        25\n",
      "Name: 1, dtype: object\n"
     ]
    }
   ],
   "source": [
    "# DataFrameオブジェクトの2行目を表示する\n",
    "print(df.loc[1])"
   ]
  },
  {
   "cell_type": "code",
   "execution_count": 85,
   "metadata": {},
   "outputs": [
    {
     "name": "stdout",
     "output_type": "stream",
     "text": [
      "        age\n",
      "count   3.0\n",
      "mean   25.0\n",
      "std     5.0\n",
      "min    20.0\n",
      "25%    22.5\n",
      "50%    25.0\n",
      "75%    27.5\n",
      "max    30.0\n"
     ]
    }
   ],
   "source": [
    "# DataFrameオブジェクトの統計情報を表示する\n",
    "print(df.describe())"
   ]
  },
  {
   "attachments": {},
   "cell_type": "markdown",
   "metadata": {},
   "source": [
    "上記のコードは、DataFrameオブジェクトの基本的な操作を示しています。DataFrameオブジェクトを作成し、列や行を表示する方法を示しています。また、describe()メソッドを使用して、DataFrameオブジェクトの統計情報を表示する方法を示しています。"
   ]
  },
  {
   "attachments": {},
   "cell_type": "markdown",
   "metadata": {},
   "source": [
    "## 3. DataFrameオブジェクトのデータのフィルタリング"
   ]
  },
  {
   "cell_type": "code",
   "execution_count": 86,
   "metadata": {},
   "outputs": [
    {
     "name": "stdout",
     "output_type": "stream",
     "text": [
      "      name  age\n",
      "1    Emily   25\n",
      "2  Charlie   30\n"
     ]
    }
   ],
   "source": [
    "# pandasをimportする\n",
    "import pandas as pd\n",
    "\n",
    "# DataFrameオブジェクトを作成する\n",
    "data = {'name': ['John', 'Emily', 'Charlie'], 'age': [20, 25, 30]}\n",
    "df = pd.DataFrame(data)\n",
    "\n",
    "# ageが25以上の行を表示する\n",
    "print(df[df['age'] >= 25])"
   ]
  },
  {
   "attachments": {},
   "cell_type": "markdown",
   "metadata": {},
   "source": [
    "上記のコードは、DataFrameオブジェクトのデータをフィルタリングする方法を示しています。DataFrameオブジェクトのage列が25以上の行を表示する方法を示しています。DataFrameオブジェクトの列を指定して条件式を書き、それをDataFrameオブジェクトに適用することで、データのフィルタリングができます。"
   ]
  },
  {
   "attachments": {},
   "cell_type": "markdown",
   "metadata": {},
   "source": [
    "# Web検索 Tips\n",
    "\n",
    "1. プログラミング言語の文法を知りたい時\n",
    "\n",
    "`python リスト`\n",
    "\n",
    "`python 文字列　一部取得`\n",
    "\n",
    "2. 特定のライブラリの利用方法を知りたい時\n",
    "\n",
    "`pandas dataframe 結合`\n",
    "\n",
    "3. ChatGPTを使って調べる\n",
    "\n",
    "`pythonでURLのリストを受け取り、ホスト名部分を取得し、すべて大文字にして、元のURLとそのホスト名をタブルでリストに含めるプログラムを出力してください。`\n"
   ]
  },
  {
   "attachments": {},
   "cell_type": "markdown",
   "metadata": {},
   "source": [
    "## 3. を実際にChatGPTに聞くと、、、\n",
    "\n",
    "以下は、PythonでURLのリストを受け取り、ホスト名部分を取得し、すべて大文字にして、元のURLとそのホスト名をタプルでリストに含めるプログラムです。\n",
    "\n",
    "```python\n",
    "from urllib.parse import urlparse\n",
    "\n",
    "def get_hostnames(urls):\n",
    "    results = []\n",
    "    for url in urls:\n",
    "        # URLをパースしてホスト名を取得し、大文字に変換する\n",
    "        parsed_url = urlparse(url)\n",
    "        hostname = parsed_url.hostname.upper()\n",
    "\n",
    "        # 元のURLとホスト名のタプルをリストに追加する\n",
    "        results.append((url, hostname))\n",
    "\n",
    "    return results\n",
    "```\n",
    "\n",
    "この関数を使用するために、URLのリストを作成し、引数として渡すことができます。例えば、以下のようになります。\n",
    "\n",
    "```python\n",
    "urls = [\n",
    "    'https://www.google.com',\n",
    "    'https://www.yahoo.co.jp',\n",
    "    'https://www.bing.com'\n",
    "]\n",
    "\n",
    "results = get_hostnames(urls)\n",
    "\n",
    "for url, hostname in results:\n",
    "    print(url, '\\t', hostname)\n",
    "```\n",
    "\n",
    "このプログラムを実行すると、次の出力が得られます。\n",
    "\n",
    "```\n",
    "https://www.google.com    GOOGLE.COM\n",
    "https://www.yahoo.co.jp  YAHOO.CO.JP\n",
    "https://www.bing.com     BING.COM\n",
    "```\n",
    "\n",
    "各URLとその大文字化されたホスト名がタブ区切りで表示されます。"
   ]
  },
  {
   "cell_type": "markdown",
   "metadata": {},
   "source": []
  },
  {
   "cell_type": "code",
   "execution_count": null,
   "metadata": {},
   "outputs": [
    {
     "name": "stdout",
     "output_type": "stream",
     "text": [
      "https://www.google.com \t WWW.GOOGLE.COM\n",
      "https://www.yahoo.co.jp \t WWW.YAHOO.CO.JP\n",
      "https://www.bing.com \t WWW.BING.COM\n"
     ]
    }
   ],
   "source": [
    "from urllib.parse import urlparse\n",
    "\n",
    "def get_hostnames(urls):\n",
    "    results = []\n",
    "    for url in urls:\n",
    "        # URLをパースしてホスト名を取得し、大文字に変換する\n",
    "        parsed_url = urlparse(url)\n",
    "        hostname = parsed_url.hostname.upper()\n",
    "\n",
    "        # 元のURLとホスト名のタプルをリストに追加する\n",
    "        results.append((url, hostname))\n",
    "\n",
    "    return results\n",
    "\n",
    "urls = [\n",
    "    'https://www.google.com',\n",
    "    'https://www.yahoo.co.jp',\n",
    "    'https://www.bing.com'\n",
    "]\n",
    "\n",
    "results = get_hostnames(urls)\n",
    "\n",
    "for url, hostname in results:\n",
    "    print(url, '\\t', hostname)"
   ]
  },
  {
   "cell_type": "markdown",
   "metadata": {},
   "source": []
  },
  {
   "cell_type": "markdown",
   "metadata": {},
   "source": [
    "結果部分でちょっと嘘をついていますが、実行はできました。"
   ]
  },
  {
   "cell_type": "markdown",
   "metadata": {},
   "source": []
  }
 ],
 "metadata": {
  "kernelspec": {
   "display_name": "ds-cource",
   "language": "python",
   "name": "python3"
  },
  "language_info": {
   "codemirror_mode": {
    "name": "ipython",
    "version": 3
   },
   "file_extension": ".py",
   "mimetype": "text/x-python",
   "name": "python",
   "nbconvert_exporter": "python",
   "pygments_lexer": "ipython3",
   "version": "3.10.11"
  },
  "orig_nbformat": 4
 },
 "nbformat": 4,
 "nbformat_minor": 2
}
